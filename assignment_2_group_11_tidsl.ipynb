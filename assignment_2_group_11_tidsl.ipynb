{
 "cells": [
  {
   "attachments": {},
   "cell_type": "markdown",
   "metadata": {},
   "source": [
    "# EEN060 - Applied object-oriented programming\n",
    "\n",
    "Teacher: [Carlos Natalino](https://www.chalmers.se/en/staff/Pages/Carlos-Natalino-Da-Silva.aspx) / Examiner: [Paolo Monti](https://www.chalmers.se/en/staff/Pages/Paolo-Monti.aspx)\n",
    "\n",
    "[Canvas course page](https://chalmers.instructure.com/courses/22365)\n",
    "\n",
    "[Course channel on Chalmers Play](https://play.chalmers.se/channel/EEN060_EEN065_Applied_object-oriented_programming/300149)\n",
    "\n",
    "Before you turn this assignment list in, make sure everything runs as expected.\n",
    "First, **restart the kernel** and then **run all cells**.\n",
    "Then, check if all the tests run correctly.\n",
    "Note that if one of the problems present an error, the following ones **will not** be tested.\n",
    "\n",
    "In case of discrepancies between the problem command and the tests, you should solve it having in mind the tests.\n",
    "\n",
    "There are two types of cell:\n",
    "1. *solution cells:* These are the cells where you write your answer, or modify the existing code to solve the problem.\n",
    "2. *test cells:* These cells are used to test whether your solution is correct or not. If the tests run correctly, you should see a message `tests passed`. Otherwise, you should see an error message.\n",
    "\n",
    "**Delete** the line `raise NotImplementedError()` from the problems that you solve.\n",
    "\n",
    "**Do not delete or add any cell in this file.** All cells that you need are already in place.\n",
    "\n",
    "You may also have problems that will be manually graded (e.g., HTML/CSS/JS/pseudocode problems).\n",
    "These problems **do not** have a respective *test cell*.\n",
    "\n",
    "If you want to execute a cell, select the cell and press **CTRL+Enter** (in Windows) or **CMD+Enter** (in macOS) or click on the **Run cell** button.\n",
    "\n",
    "**If you want, you can solve this programming assignment using Google Colab**\n",
    "\n",
    "Link: https://colab.research.google.com/\n",
    "\n",
    "Just copy the following line to a code line and run it."
   ]
  },
  {
   "attachments": {},
   "cell_type": "markdown",
   "metadata": {
    "nbgrader": {
     "grade": false,
     "grade_id": "cell-title-assignment",
     "locked": true,
     "schema_version": 3,
     "solution": false,
     "task": false
    }
   },
   "source": [
    "# Assignment 1\n",
    "\n",
    "In this assignment, students should practice:\n",
    "- how to use Visual Studio Code\n",
    "- how to download, solve and submit programming assignments\n",
    "- how to create functions\n",
    "- start getting familiar with Python\n",
    "- how to manipulate variables\n",
    "- how to use math operations\n",
    "- how to output the results\n",
    "- understand different types of variables\n",
    "- understand the code quality validation\n",
    "\n",
    "**Observations:**\n",
    "For the problems in this assignment, you should:\n",
    "- use only the math operations studied in the lecture notes (i.e., no advanced functions allowed).\n",
    "- not use external modules, i.e., `import` command is not allowed in your solutions (with exception of the module `typing`).\n",
    "- make sure that your `utils.py` file has the following line (i.e., replace `onu2` by `onu1` if needed):\n",
    "\n",
    "`url_python_validator = \"https://onu1.s2.chalmers.se/pnu/\"`\n",
    "\n",
    "**Preparation:** Run the cell below every time you start working on this file, and every time you restart the kernel."
   ]
  },
  {
   "cell_type": "code",
   "execution_count": null,
   "metadata": {},
   "outputs": [],
   "source": [
    "%load_ext autoreload\n",
    "try:\n",
    "    from utils import validate_python_code, validate_html\n",
    "except:\n",
    "    import sys\n",
    "    print(\"It seems this file is in the wrong folder. \"\n",
    "          \"Make sure to place it in the `programming-assignments` folder/project.\",\n",
    "          file=sys.stderr)"
   ]
  },
  {
   "cell_type": "markdown",
   "metadata": {
    "nbgrader": {
     "grade": false,
     "grade_id": "cell-title-level-1",
     "locked": true,
     "schema_version": 3,
     "solution": false,
     "task": false
    }
   },
   "source": [
    "## Level 1\n",
    "\n",
    "Level 1 problems are simple problems that required only the knowledge obtained in the content of the lecture and the lecture notes of the particular lecture."
   ]
  },
  {
   "cell_type": "markdown",
   "metadata": {
    "nbgrader": {
     "grade": false,
     "grade_id": "cell-problem-1-1",
     "locked": true,
     "schema_version": 3,
     "solution": false,
     "task": false
    }
   },
   "source": [
    "### Problem 1.1\n",
    "\n",
    "Create a Python function called `sum_of_values` that receives two numbers (integers or floats) and returns the sum of their value."
   ]
  },
  {
   "cell_type": "markdown",
   "metadata": {
    "nbgrader": {
     "grade": false,
     "grade_id": "cell-pseudocode-1-1",
     "locked": true,
     "schema_version": 3,
     "solution": false,
     "task": false
    }
   },
   "source": [
    "```\n",
    "# write here your pseudocode (not graded)\n",
    "\n",
    "# * pseudocode is necessary when asking for help during the lab\n",
    "```"
   ]
  },
  {
   "cell_type": "code",
   "execution_count": 5,
   "metadata": {
    "nbgrader": {
     "grade": false,
     "grade_id": "cell-answer-1-1",
     "locked": false,
     "schema_version": 3,
     "solution": true,
     "task": false
    },
    "tags": [
     "solution"
    ]
   },
   "outputs": [
    {
     "name": "stdout",
     "output_type": "stream",
     "text": [
      "Overwriting sum_of_values_solution.py\n"
     ]
    }
   ],
   "source": [
    "%%writefile sum_of_values_solution.py\n",
    "# solution cell\n",
    "### BEGIN SOLUTION\n",
    "def sum_of_values(a: int, b: int)\n",
    "    r = a + b\n",
    "    return r\n",
    "\n",
    "a: int | float\n",
    "b: int | float\n",
    "r: int | float\n",
    "\n",
    "print(sum_of_values(2,3))\n",
    "print(r)\n",
    "\n",
    "#raise NotImplementedError()\n",
    "### END SOLUTION"
   ]
  },
  {
   "cell_type": "code",
   "execution_count": null,
   "metadata": {
    "tags": [
     "debug"
    ]
   },
   "outputs": [],
   "source": [
    "%autoreload 2\n",
    "# uncomment the line(s) below to debug\n",
    "# from sum_of_values_solution import sum_of_values\n",
    "\n",
    "# a = 10\n",
    "# b = 20\n",
    "# r = sum_of_values(a, b)\n",
    "# print(f\"The sum of negative {a} and negative {b} is {r}\")\n",
    "# print('Execution finished', u'\\u2713')"
   ]
  },
  {
   "cell_type": "code",
   "execution_count": 7,
   "metadata": {
    "nbgrader": {
     "grade": true,
     "grade_id": "cell-tests-1-1",
     "locked": true,
     "points": 1,
     "schema_version": 3,
     "solution": false,
     "task": false
    },
    "tags": [
     "tests"
    ]
   },
   "outputs": [
    {
     "name": "stderr",
     "output_type": "stream",
     "text": [
      "UsageError: Line magic function `%autoreload` not found.\n"
     ]
    }
   ],
   "source": [
    "%autoreload 2\n",
    "# test cell\n",
    "try:\n",
    "    import sum_of_values_solution\n",
    "except:\n",
    "    raise ValueError(\"You did not execute your solution cell!\")\n",
    "try:\n",
    "    from sum_of_values_solution import sum_of_values\n",
    "except:\n",
    "    raise ValueError(\"The module does not have the necessary function!\")\n",
    "from nose.tools import assert_equal, assert_raises\n",
    "\n",
    "assert_equal(sum_of_values(20, 10), 30)\n",
    "assert_equal(sum_of_values(-20, 10), -10)\n",
    "assert_raises(TypeError, sum_of_values, 2)\n",
    "assert_raises(TypeError, sum_of_values, 2, \"Test\")\n",
    "assert_raises(TypeError, sum_of_values, None, 2)\n",
    "\n",
    "from utils import validate_python_code\n",
    "validate_python_code(\"sum_of_values_solution.py\")\n",
    "print('tests passed', u'\\u2713')"
   ]
  },
  {
   "attachments": {},
   "cell_type": "markdown",
   "metadata": {
    "nbgrader": {
     "grade": false,
     "grade_id": "cell-problem-1-2",
     "locked": true,
     "schema_version": 3,
     "solution": false,
     "task": false
    }
   },
   "source": [
    "### Problem 1.2\n",
    "\n",
    "Create a Python function called `print_exponentiation` that receives two numbers (integers or floats).\n",
    "The first one is the base, and the second one is the exponent.\n",
    "The function should print a string representing the value resulting of their exponentiation showing three decimal cases."
   ]
  },
  {
   "cell_type": "markdown",
   "metadata": {
    "nbgrader": {
     "grade": false,
     "grade_id": "cell-pseudocode-1-2",
     "locked": true,
     "schema_version": 3,
     "solution": false,
     "task": false
    }
   },
   "source": [
    "```\n",
    "# write here your pseudocode (not graded)\n",
    "\n",
    "# * pseudocode is necessary when asking for help during the lab\n",
    "```"
   ]
  },
  {
   "cell_type": "code",
   "execution_count": 6,
   "metadata": {
    "nbgrader": {
     "grade": false,
     "grade_id": "cell-answer-1-2",
     "locked": false,
     "schema_version": 3,
     "solution": true,
     "task": false
    }
   },
   "outputs": [
    {
     "name": "stdout",
     "output_type": "stream",
     "text": [
      "Writing print_exponentiation_solution.py\n"
     ]
    }
   ],
   "source": [
    "%%writefile print_exponentiation_solution.py\n",
    "# solution cell\n",
    "### BEGIN SOLUTION\n",
    "def print_exponentiation (a, b)\n",
    "    r = pow(a, b)\n",
    "\n",
    "a: int | float\n",
    "b: int | float\n",
    "\n",
    "print(print_exponantiation(2,5))\n",
    "\n",
    "### END SOLUTION"
   ]
  },
  {
   "cell_type": "code",
   "execution_count": null,
   "metadata": {},
   "outputs": [],
   "source": [
    "%autoreload 2\n",
    "# uncomment the line(s) below to debug\n",
    "# from print_exponentiation_solution import print_exponentiation\n",
    "\n",
    "# x = 4.2\n",
    "# y = 8.3\n",
    "# print(f'the exponentiation of {x} by {y} with three decimal cases is:')\n",
    "# print_exponentiation(x, y)\n",
    "# print('Execution finished', u'\\u2713')"
   ]
  },
  {
   "cell_type": "code",
   "execution_count": null,
   "metadata": {
    "nbgrader": {
     "grade": true,
     "grade_id": "cell-test-1-2",
     "locked": true,
     "points": 1,
     "schema_version": 3,
     "solution": false,
     "task": false
    }
   },
   "outputs": [],
   "source": [
    "%autoreload 2\n",
    "# test cell\n",
    "try:\n",
    "    import print_exponentiation_solution\n",
    "except:\n",
    "    raise ValueError(\"You did not execute your solution cell!\")\n",
    "try:\n",
    "    from print_exponentiation_solution import print_exponentiation\n",
    "except:\n",
    "    raise ValueError(\"The module does not have the necessary function!\")\n",
    "\n",
    "from nose.tools import assert_equal, assert_raises\n",
    "from unittest.mock import patch\n",
    "\n",
    "# first test\n",
    "print_exponentiation(8.6352456, 3.3)\n",
    "\n",
    "# second test\n",
    "print_exponentiation(4.2, 8.3)\n",
    "\n",
    "# testing types\n",
    "assert_raises(TypeError, print_exponentiation)\n",
    "assert_raises(TypeError, print_exponentiation, 2)\n",
    "\n",
    "from utils import validate_python_code\n",
    "validate_python_code(\"print_exponentiation_solution.py\")\n",
    "print('tests passed', u'\\u2713')"
   ]
  },
  {
   "attachments": {},
   "cell_type": "markdown",
   "metadata": {
    "nbgrader": {
     "grade": false,
     "grade_id": "cell-problem-1-3",
     "locked": true,
     "schema_version": 3,
     "solution": false,
     "task": false
    }
   },
   "source": [
    "### Problem 1.3\n",
    "\n",
    "Create a function called `circle_area` that, based on one parameter representing the circumference (an integer or float, variable $c$ in the image below) of the circle, computes its area.\n",
    "\n",
    "![Circumference and radius](https://uploads-cdn.omnicalculator.com/images/geometry/perimeter/circumference-formulas2.svg)\n",
    "\n",
    "Remember that the area $a$ of a circle given its circumference $c$ is formulated as:\n",
    "\\begin{equation}\n",
    "a = \\pi \\cdot (\\frac{c}{2 \\cdot \\pi}) ^2 \n",
    "\\end{equation}\n",
    "\n",
    "**Observations:**\n",
    "- You should assume $\\pi$=3.14."
   ]
  },
  {
   "cell_type": "markdown",
   "metadata": {
    "nbgrader": {
     "grade": false,
     "grade_id": "cell-pseudocode-1-3",
     "locked": true,
     "schema_version": 3,
     "solution": false,
     "task": false
    }
   },
   "source": [
    "```\n",
    "# write here your pseudocode (not graded)\n",
    "\n",
    "# * pseudocode is necessary when asking for help during the lab\n",
    "```"
   ]
  },
  {
   "cell_type": "code",
   "execution_count": null,
   "metadata": {
    "nbgrader": {
     "grade": false,
     "grade_id": "cell-answer-1-3",
     "locked": false,
     "schema_version": 3,
     "solution": true,
     "task": false
    }
   },
   "outputs": [],
   "source": [
    "%%writefile circle_area_solution.py\n",
    "# solution cell\n",
    "### BEGIN SOLUTION\n",
    "raise NotImplementedError()\n",
    "### END SOLUTION"
   ]
  },
  {
   "cell_type": "code",
   "execution_count": null,
   "metadata": {},
   "outputs": [],
   "source": [
    "%autoreload 2\n",
    "# uncomment the line(s) below to debug\n",
    "# from circle_area_solution import circle_area\n",
    "\n",
    "# c = 3\n",
    "# a = circle_area(c)\n",
    "# print(f'The area of a circle with circumference {c} is {a}')\n",
    "# print('Execution finished', u'\\u2713')"
   ]
  },
  {
   "cell_type": "code",
   "execution_count": null,
   "metadata": {
    "nbgrader": {
     "grade": true,
     "grade_id": "cell-test-1-3",
     "locked": true,
     "points": 1,
     "schema_version": 3,
     "solution": false,
     "task": false
    }
   },
   "outputs": [],
   "source": [
    "%autoreload 2\n",
    "# test cell\n",
    "try:\n",
    "    import circle_area_solution\n",
    "except:\n",
    "    raise ValueError(\"You did not execute your solution cell!\")\n",
    "try:\n",
    "    from circle_area_solution import circle_area\n",
    "except:\n",
    "    raise ValueError(\"The module does not have the necessary function!\")\n",
    "    \n",
    "from nose.tools import assert_equal, assert_almost_equal, assert_raises\n",
    "from unittest.mock import patch\n",
    "import math\n",
    "math.pi = 7.\n",
    "assert_equal(circle_area(6.28), 3.14)\n",
    "assert_almost_equal(circle_area(25.36), 51.20458598726114)\n",
    "assert_almost_equal(circle_area(3), 0.7165605095541402)\n",
    "with patch('__main__.pow') as mock_main_pow:\n",
    "    circle_area(3)\n",
    "mock_main_pow.assert_not_called()\n",
    "assert_raises(TypeError, circle_area)\n",
    "assert_raises(TypeError, circle_area, None)\n",
    "\n",
    "from utils import validate_python_code\n",
    "validate_python_code(\"circle_area_solution.py\")\n",
    "print('tests passed', u'\\u2713')"
   ]
  },
  {
   "cell_type": "markdown",
   "metadata": {
    "nbgrader": {
     "grade": false,
     "grade_id": "cell-problem-1-4",
     "locked": true,
     "schema_version": 3,
     "solution": false,
     "task": false
    }
   },
   "source": [
    "### Problem 1.4\n",
    "\n",
    "Create a function named `greetings` that receives:\n",
    "- the salutation of a person (string),\n",
    "- the name of a person (string),\n",
    "- the surname of a person (string),\n",
    "- the age of a person (integer)\n",
    "and returns a greeting message.\n",
    "\n",
    "For instance, for a person of name 'John', surname 'Doe', salutation 'Mr.' and age 39, the function should return a message similar to the following one:\n",
    "\n",
    "`Hi Mr. John Doe, age 39.`\n",
    "\n",
    "The name and surname should always be capitalized. For instance, for a person of name 'jAne', surname 'DoE', salutation 'mS.' and age 32, the function should return a message similar to the following one:\n",
    "\n",
    "`Hi Ms. Jane Doe, age 32.`\n",
    "\n",
    "**Observations:**\n",
    "- You should use `f-string` to solve this problem."
   ]
  },
  {
   "cell_type": "markdown",
   "metadata": {
    "nbgrader": {
     "grade": false,
     "grade_id": "cell-pseudocode-1-4",
     "locked": true,
     "schema_version": 3,
     "solution": false,
     "task": false
    }
   },
   "source": [
    "```\n",
    "# write here your pseudocode (not graded)\n",
    "\n",
    "# * pseudocode is necessary when asking for help during the lab\n",
    "```"
   ]
  },
  {
   "cell_type": "code",
   "execution_count": null,
   "metadata": {
    "nbgrader": {
     "grade": false,
     "grade_id": "cell-answer-1-4",
     "locked": false,
     "schema_version": 3,
     "solution": true,
     "task": false
    }
   },
   "outputs": [],
   "source": [
    "%%writefile greetings_solution.py\n",
    "# solution cell\n",
    "### BEGIN SOLUTION\n",
    "raise NotImplementedError()\n",
    "### END SOLUTION"
   ]
  },
  {
   "cell_type": "code",
   "execution_count": null,
   "metadata": {},
   "outputs": [],
   "source": [
    "%autoreload 2\n",
    "# uncomment the line(s) below to debug\n",
    "# from greetings_solution import greetings\n",
    "\n",
    "# g = greetings('ms.', 'jAne', 'DoE', 32)\n",
    "# print(g)\n",
    "# print('Execution finished', u'\\u2713')"
   ]
  },
  {
   "cell_type": "code",
   "execution_count": null,
   "metadata": {
    "nbgrader": {
     "grade": true,
     "grade_id": "cell-test-1-4",
     "locked": true,
     "points": 1,
     "schema_version": 3,
     "solution": false,
     "task": false
    }
   },
   "outputs": [],
   "source": [
    "%autoreload 2\n",
    "# test cell\n",
    "try:\n",
    "    import greetings_solution\n",
    "except:\n",
    "    raise ValueError(\"You did not execute your solution cell!\")\n",
    "try:\n",
    "    from greetings_solution import greetings\n",
    "except:\n",
    "    raise ValueError(\"The module does not have the necessary function!\")\n",
    "    \n",
    "from nose.tools import assert_equal\n",
    "assert_equal(greetings('MR.', 'joHn', 'DOe', 39), 'Hi Mr. John Doe, age 39.')\n",
    "assert_equal(greetings('ms.', 'jAne', 'DoE', 32), 'Hi Ms. Jane Doe, age 32.')\n",
    "\n",
    "from utils import validate_python_code\n",
    "validate_python_code(\"greetings_solution.py\")\n",
    "print('tests passed', u'\\u2713')"
   ]
  },
  {
   "cell_type": "markdown",
   "metadata": {
    "nbgrader": {
     "grade": false,
     "grade_id": "cell-title-level-2",
     "locked": true,
     "schema_version": 3,
     "solution": false,
     "task": false
    }
   },
   "source": [
    "---\n",
    "## Level 2\n",
    "\n",
    "Problems in level 2 should build upon the content of the lecture and the content of previous lectures.\n",
    "Therefore, the problems can be solved based solely on the lecture notes available for the course up to the lecture the assignment is about."
   ]
  },
  {
   "attachments": {},
   "cell_type": "markdown",
   "metadata": {
    "nbgrader": {
     "grade": false,
     "grade_id": "cell-problem-2-1",
     "locked": true,
     "schema_version": 3,
     "solution": false,
     "task": false
    }
   },
   "source": [
    "### Problem 2.1\n",
    "\n",
    "Create a Python function called `print_return_exponentiation` that receives two numbers (integers or floats).\n",
    "The first number is the base, while the second number is the exponent.\n",
    "The function should:\n",
    "1. print a string that represents the value resulting of their exponentiation showing three decimal cases;\n",
    "2. return the result of the operation (a float number)."
   ]
  },
  {
   "cell_type": "markdown",
   "metadata": {
    "nbgrader": {
     "grade": false,
     "grade_id": "cell-pseudocode-2-1",
     "locked": true,
     "schema_version": 3,
     "solution": false,
     "task": false
    }
   },
   "source": [
    "```\n",
    "# write here your pseudocode (not graded)\n",
    "\n",
    "# * pseudocode is necessary when asking for help during the lab\n",
    "```"
   ]
  },
  {
   "cell_type": "code",
   "execution_count": null,
   "metadata": {
    "nbgrader": {
     "grade": false,
     "grade_id": "cell-answer-2-1",
     "locked": false,
     "schema_version": 3,
     "solution": true,
     "task": false
    }
   },
   "outputs": [],
   "source": [
    "%%writefile print_return_exponentiation_solution.py\n",
    "# solution cell\n",
    "### BEGIN SOLUTION\n",
    "raise NotImplementedError()\n",
    "### END SOLUTION"
   ]
  },
  {
   "cell_type": "code",
   "execution_count": null,
   "metadata": {},
   "outputs": [],
   "source": [
    "%autoreload 2\n",
    "# uncomment the line(s) below to debug\n",
    "# from print_return_exponentiation_solution import print_return_exponentiation\n",
    "\n",
    "# x = 4.2\n",
    "# y = 8.3\n",
    "# print(f'the exponentiation of {x} by {y} with three decimal cases is:')\n",
    "# r = print_return_exponentiation(x, y)\n",
    "# print(f'or {r}')\n",
    "# print('Execution finished', u'\\u2713')"
   ]
  },
  {
   "cell_type": "code",
   "execution_count": null,
   "metadata": {
    "nbgrader": {
     "grade": true,
     "grade_id": "cell-tests-2-1",
     "locked": true,
     "points": 1,
     "schema_version": 3,
     "solution": false,
     "task": false
    }
   },
   "outputs": [],
   "source": [
    "%autoreload 2\n",
    "#test cell\n",
    "try:\n",
    "    import print_return_exponentiation_solution\n",
    "except:\n",
    "    raise ValueError(\"You did not execute your solution cell!\")\n",
    "try:\n",
    "    from print_return_exponentiation_solution import print_return_exponentiation\n",
    "except:\n",
    "    raise ValueError(\"The module does not have the necessary function!\")\n",
    "    \n",
    "from nose.tools import assert_equal, assert_raises\n",
    "from unittest.mock import patch\n",
    "\n",
    "# first test\n",
    "r = print_return_exponentiation(8.6352456, 3.3)\n",
    "assert_equal(1229.4375985042666, r)\n",
    "\n",
    "# second test\n",
    "r = print_return_exponentiation(4.2, 8.3)\n",
    "assert_equal(r, 148925.5148948539)\n",
    "\n",
    "# testing types\n",
    "assert_raises(TypeError, print_return_exponentiation)\n",
    "assert_raises(TypeError, print_return_exponentiation, 2)\n",
    "\n",
    "from utils import validate_python_code\n",
    "validate_python_code(\"print_return_exponentiation_solution.py\")\n",
    "print('tests passed', u'\\u2713')"
   ]
  },
  {
   "attachments": {},
   "cell_type": "markdown",
   "metadata": {
    "nbgrader": {
     "grade": false,
     "grade_id": "cell-problem-2-1",
     "locked": true,
     "schema_version": 3,
     "solution": false,
     "task": false
    }
   },
   "source": [
    "### Problem 2.2\n",
    "\n",
    "Create a Python function called `return_exponentiation` that receives two numbers (integers or floats).\n",
    "The first number is the base, while the second number is the exponent.\n",
    "The function should return a string that represents the value resulting of their exponentiation showing four decimal cases."
   ]
  },
  {
   "cell_type": "markdown",
   "metadata": {
    "nbgrader": {
     "grade": false,
     "grade_id": "cell-pseudocode-2-1",
     "locked": true,
     "schema_version": 3,
     "solution": false,
     "task": false
    }
   },
   "source": [
    "```\n",
    "# write here your pseudocode (not graded)\n",
    "\n",
    "# * pseudocode is necessary when asking for help during the lab\n",
    "```"
   ]
  },
  {
   "cell_type": "code",
   "execution_count": null,
   "metadata": {
    "nbgrader": {
     "grade": false,
     "grade_id": "cell-answer-2-1",
     "locked": false,
     "schema_version": 3,
     "solution": true,
     "task": false
    }
   },
   "outputs": [],
   "source": [
    "%%writefile return_exponentiation_solution.py\n",
    "# solution cell\n",
    "### BEGIN SOLUTION\n",
    "raise NotImplementedError()\n",
    "### END SOLUTION"
   ]
  },
  {
   "cell_type": "code",
   "execution_count": null,
   "metadata": {},
   "outputs": [],
   "source": [
    "%autoreload 2\n",
    "# uncomment the line(s) below to debug\n",
    "# from return_exponentiation_solution import return_exponentiation\n",
    "\n",
    "# x = 4.2\n",
    "# y = 8.3\n",
    "# r = return_exponentiation(x, y)\n",
    "# print(f'the exponentiation of {x} by {y} with three decimal cases is: {r}')\n",
    "# print('Execution finished', u'\\u2713')"
   ]
  },
  {
   "cell_type": "code",
   "execution_count": null,
   "metadata": {
    "nbgrader": {
     "grade": true,
     "grade_id": "cell-tests-2-1",
     "locked": true,
     "points": 1,
     "schema_version": 3,
     "solution": false,
     "task": false
    }
   },
   "outputs": [],
   "source": [
    "%autoreload 2\n",
    "#test cell\n",
    "try:\n",
    "    import return_exponentiation_solution\n",
    "except:\n",
    "    raise ValueError(\"You did not execute your solution cell!\")\n",
    "try:\n",
    "    from return_exponentiation_solution import return_exponentiation\n",
    "except:\n",
    "    raise ValueError(\"The module does not have the necessary function!\")\n",
    "    \n",
    "from nose.tools import assert_equal, assert_raises\n",
    "from unittest.mock import patch\n",
    "\n",
    "# first test\n",
    "r = return_exponentiation(8.6352456, 3.3)\n",
    "assert r == '1229.4375' or r == '1229.4376'\n",
    "\n",
    "# second test\n",
    "r = return_exponentiation(4.2, 8.3)\n",
    "assert r == '148925.5148' or r == '148925.5149'\n",
    "\n",
    "# testing types\n",
    "assert_raises(TypeError, return_exponentiation)\n",
    "assert_raises(TypeError, return_exponentiation, 2)\n",
    "\n",
    "from utils import validate_python_code\n",
    "validate_python_code(\"return_exponentiation_solution.py\")\n",
    "print('tests passed', u'\\u2713')"
   ]
  },
  {
   "attachments": {},
   "cell_type": "markdown",
   "metadata": {
    "nbgrader": {
     "grade": false,
     "grade_id": "cell-problem-2-2",
     "locked": true,
     "schema_version": 3,
     "solution": false,
     "task": false
    }
   },
   "source": [
    "### Problem 2.3\n",
    "\n",
    "A moving company works by booking the time that their employees will visit the client to start the move.\n",
    "The company measures the time in which the move will start in minutes.\n",
    "However, it needs to send the reminders for their clients in terms of number of days, hours, minutes  in which the employees will arrive to start the move.\n",
    "\n",
    "For instance:\n",
    "\n",
    "- Input: `1000` / Output: `(0, 16, 40)`\n",
    "- Input: `8160` / Output: `(5, 16, 0)`\n",
    "- Input: `400` / Output: `(0, 6, 40)`\n",
    "- Input: `8645` / Output: `(6, 0, 5)`\n",
    "\n",
    "Create a function named `convert_minutes_to_time` that receives the number of minutes and returns the number of days, hours, minutes (in this order) that are equivalent to the number of minutes input to the function.\n",
    "\n",
    "**Observations:**\n",
    "- Remember that you cannot use `import`. Use only the math operations in Chapter 3."
   ]
  },
  {
   "cell_type": "markdown",
   "metadata": {
    "nbgrader": {
     "grade": false,
     "grade_id": "cell-pseudocode-2-2",
     "locked": true,
     "schema_version": 3,
     "solution": false,
     "task": false
    }
   },
   "source": [
    "```\n",
    "# write here your pseudocode (not graded)\n",
    "\n",
    "# * pseudocode is necessary when asking for help during the lab\n",
    "```"
   ]
  },
  {
   "cell_type": "code",
   "execution_count": null,
   "metadata": {
    "nbgrader": {
     "grade": false,
     "grade_id": "cell-answer-2-2",
     "locked": false,
     "schema_version": 3,
     "solution": true,
     "task": false
    }
   },
   "outputs": [],
   "source": [
    "%%writefile convert_minutes_to_time_solution.py\n",
    "# solution cell\n",
    "### BEGIN SOLUTION\n",
    "raise NotImplementedError()\n",
    "### END SOLUTION"
   ]
  },
  {
   "cell_type": "code",
   "execution_count": null,
   "metadata": {},
   "outputs": [],
   "source": [
    "%autoreload 2\n",
    "# uncomment the line(s) below to debug\n",
    "# from convert_minutes_to_time_solution import convert_minutes_to_time\n",
    "\n",
    "# minutes = 8645\n",
    "# value = convert_minutes_to_time(minutes)\n",
    "# print(f'{minutes} minutes are equivalent to {value[2]} days, {value[1]} hours and {value[0]} minutes')\n",
    "# print('Execution finished', u'\\u2713')"
   ]
  },
  {
   "cell_type": "code",
   "execution_count": null,
   "metadata": {
    "nbgrader": {
     "grade": true,
     "grade_id": "cell-test-2-2",
     "locked": true,
     "points": 1,
     "schema_version": 3,
     "solution": false,
     "task": false
    }
   },
   "outputs": [],
   "source": [
    "%autoreload 2\n",
    "# test cell\n",
    "try:\n",
    "    import convert_minutes_to_time_solution\n",
    "except:\n",
    "    raise ValueError(\"You did not execute your solution cell!\")\n",
    "try:\n",
    "    from convert_minutes_to_time_solution import convert_minutes_to_time\n",
    "except:\n",
    "    raise ValueError(\"The module does not have the necessary function!\")\n",
    "    \n",
    "from nose.tools import assert_equal\n",
    "assert_equal(convert_minutes_to_time(1000), (0, 16, 40))\n",
    "assert_equal(convert_minutes_to_time(8160), (5, 16, 0))\n",
    "assert_equal(convert_minutes_to_time(400), (0, 6, 40))\n",
    "assert_equal(convert_minutes_to_time(8645), (6, 0, 5))\n",
    "\n",
    "from utils import validate_python_code\n",
    "validate_python_code(\"convert_minutes_to_time_solution.py\")\n",
    "print('tests passed', u'\\u2713')"
   ]
  },
  {
   "attachments": {},
   "cell_type": "markdown",
   "metadata": {
    "nbgrader": {
     "grade": false,
     "grade_id": "cell-problem-2-3",
     "locked": true,
     "schema_version": 3,
     "solution": false,
     "task": false
    }
   },
   "source": [
    "### Problem 2.4\n",
    "\n",
    "Create a function called `test_convert_minutes_to_time` that tests the function `convert_minutes_to_time` made in the previous problem.\n",
    "Note that after running the test cell, the code coverage should be 100%."
   ]
  },
  {
   "cell_type": "markdown",
   "metadata": {
    "nbgrader": {
     "grade": false,
     "grade_id": "cell-pseudocode-2-3",
     "locked": true,
     "schema_version": 3,
     "solution": false,
     "task": false
    }
   },
   "source": [
    "```\n",
    "# write here your pseudocode (not graded)\n",
    "\n",
    "# * pseudocode is necessary when asking for help during the lab\n",
    "```"
   ]
  },
  {
   "cell_type": "code",
   "execution_count": null,
   "metadata": {
    "nbgrader": {
     "grade": false,
     "grade_id": "cell-answer-2-3",
     "locked": false,
     "schema_version": 3,
     "solution": true,
     "task": false
    }
   },
   "outputs": [],
   "source": [
    "%%writefile test_convert_minutes_to_time_file.py\n",
    "# solution cell\n",
    "# the line below brings the function `convert_minutes_to_time` into scope\n",
    "from convert_minutes_to_time_solution import convert_minutes_to_time\n",
    "### BEGIN SOLUTION\n",
    "raise NotImplementedError()\n",
    "### END SOLUTION"
   ]
  },
  {
   "cell_type": "code",
   "execution_count": null,
   "metadata": {},
   "outputs": [],
   "source": [
    "# run the tests and check coverage\n",
    "!coverage run -m pytest test_convert_minutes_to_time_file.py\n",
    "!coverage report -m --include=\"convert_minutes_to_time_solution*\"\n",
    "!coverage erase"
   ]
  },
  {
   "cell_type": "code",
   "execution_count": null,
   "metadata": {
    "nbgrader": {
     "grade": true,
     "grade_id": "cell-test-2-3",
     "locked": true,
     "points": 1,
     "schema_version": 3,
     "solution": false,
     "task": false
    }
   },
   "outputs": [],
   "source": [
    "%autoreload 2\n",
    "# test cell\n",
    "\n",
    "from utils import validate_python_code\n",
    "validate_python_code(\"test_convert_minutes_to_time_file.py\")\n",
    "print('tests passed', u'\\u2713')"
   ]
  }
 ],
 "metadata": {
  "celltoolbar": "Create Assignment",
  "kernelspec": {
   "display_name": "chalmers",
   "language": "python",
   "name": "python3"
  },
  "language_info": {
   "codemirror_mode": {
    "name": "ipython",
    "version": 3
   },
   "file_extension": ".py",
   "mimetype": "text/x-python",
   "name": "python",
   "nbconvert_exporter": "python",
   "pygments_lexer": "ipython3",
   "version": "3.10.9"
  },
  "vscode": {
   "interpreter": {
    "hash": "a52448ee6648a4c009197a4976993dfc88422940e63e70c08e554a5d152ef418"
   }
  }
 },
 "nbformat": 4,
 "nbformat_minor": 4
}
